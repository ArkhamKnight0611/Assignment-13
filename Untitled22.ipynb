{
  "nbformat": 4,
  "nbformat_minor": 0,
  "metadata": {
    "colab": {
      "provenance": []
    },
    "kernelspec": {
      "name": "python3",
      "display_name": "Python 3"
    },
    "language_info": {
      "name": "python"
    }
  },
  "cells": [
    {
      "cell_type": "code",
      "execution_count": null,
      "metadata": {
        "id": "aibyFYdVgKqO"
      },
      "outputs": [],
      "source": [
        "# Flask is a web framework. Flask allows you to build a web application by providing tools, libraries, and technologies.\n",
        "# This web application will be a web page, a wiki, or a big web-based calendar application or commercial website.\n",
        "# Flask is classified into a micro-framework that means it has little to no dependencies on external libraries.\n",
        "# There are some pros and cons:- Pros mean there are little dependencies to upgrade and to watch security bugs and cons means by adding the plugin you will increase the dependencies."
      ]
    },
    {
      "cell_type": "code",
      "source": [
        "from flask import Flask\n",
        "\n",
        "app = Flask(__name__)\n",
        "\n",
        "@app.route(\"/\")\n",
        "def hello_world():\n",
        "    return \"<h1>Hello, World!</h1>\"\n",
        "\n",
        "if __name__==\"__main__\":\n",
        "    app.run(host=\"0.0.0.0\")"
      ],
      "metadata": {
        "colab": {
          "base_uri": "https://localhost:8080/"
        },
        "id": "VNQ2DGGT-nNC",
        "outputId": "3f77dc91-db7b-4599-fab7-7efce7be22cb"
      },
      "execution_count": 6,
      "outputs": [
        {
          "output_type": "stream",
          "name": "stdout",
          "text": [
            " * Serving Flask app '__main__'\n",
            " * Debug mode: off\n"
          ]
        },
        {
          "output_type": "stream",
          "name": "stderr",
          "text": [
            "INFO:werkzeug:\u001b[31m\u001b[1mWARNING: This is a development server. Do not use it in a production deployment. Use a production WSGI server instead.\u001b[0m\n",
            " * Running on all addresses (0.0.0.0)\n",
            " * Running on http://127.0.0.1:5000\n",
            " * Running on http://172.28.0.12:5000\n",
            "INFO:werkzeug:\u001b[33mPress CTRL+C to quit\u001b[0m\n"
          ]
        }
      ]
    },
    {
      "cell_type": "code",
      "source": [
        "# App routing is the technique used to map the specific URL with the associated function intended to perform some task.\n",
        "# The Latest Web frameworks use the routing technique to help users remember application URLs.\n",
        "# It is helpful to access the desired page directly without navigating from the home page."
      ],
      "metadata": {
        "id": "wYj6zvHMuHx-"
      },
      "execution_count": 2,
      "outputs": []
    },
    {
      "cell_type": "code",
      "source": [
        "from flask import Flask, render_template\n",
        "app = Flask(__name__)\n",
        "\n",
        "@app.route('/welcome')\n",
        "def home():\n",
        "   return render_template('welcome.html')\n",
        "\n",
        "if __name__==\"__main__\":\n",
        "    app.run(host=\"0.0.0.0\")\n",
        "\n",
        "\n",
        "\n",
        "# html for render\n",
        "\n",
        "'''<!DOCTYPE html>\n",
        "<html lang=\"en\">\n",
        "<head>\n",
        "    <meta charset=\"UTF-8\">\n",
        "    <meta name=\"viewport\" content=\"width=device-width, initial-scale=1.0\">\n",
        "    <title>Document</title>\n",
        "</head>\n",
        "<body>\n",
        "    <h1>Welcome to the HomePage!</h1>\n",
        "    <h3>Company Name: ABC Corporation</h3>\n",
        "    <h3>Location: India</h3>\n",
        "    <h3>Contact Detail: 999-999-9999</h3>\n",
        "</body>\n",
        "</html>'''"
      ],
      "metadata": {
        "colab": {
          "base_uri": "https://localhost:8080/",
          "height": 229
        },
        "id": "-_QL2fbP_IXC",
        "outputId": "a772fc51-6047-47d4-aa6f-6119933555db"
      },
      "execution_count": 8,
      "outputs": [
        {
          "output_type": "stream",
          "name": "stdout",
          "text": [
            " * Serving Flask app '__main__'\n",
            " * Debug mode: off\n"
          ]
        },
        {
          "output_type": "stream",
          "name": "stderr",
          "text": [
            "INFO:werkzeug:\u001b[31m\u001b[1mWARNING: This is a development server. Do not use it in a production deployment. Use a production WSGI server instead.\u001b[0m\n",
            " * Running on all addresses (0.0.0.0)\n",
            " * Running on http://127.0.0.1:5000\n",
            " * Running on http://172.28.0.12:5000\n",
            "INFO:werkzeug:\u001b[33mPress CTRL+C to quit\u001b[0m\n"
          ]
        },
        {
          "output_type": "execute_result",
          "data": {
            "text/plain": [
              "'<!DOCTYPE html>\\n<html lang=\"en\">\\n<head>\\n    <meta charset=\"UTF-8\">\\n    <meta name=\"viewport\" content=\"width=device-width, initial-scale=1.0\">\\n    <title>Document</title>\\n</head>\\n<body>\\n    <h1>Welcome to the HomePage!</h1>\\n    <h3>Company Name: ABC Corporation</h3>\\n    <h3>Location: India</h3>\\n    <h3>Contact Detail: 999-999-9999</h3>\\n</body>\\n</html>'"
            ],
            "application/vnd.google.colaboratory.intrinsic+json": {
              "type": "string"
            }
          },
          "metadata": {},
          "execution_count": 8
        }
      ]
    },
    {
      "cell_type": "code",
      "source": [
        "# The url_for() function is used to build a URL to the specific function dynamically.\n",
        "# The first argument is the name of the specified function, and then we can pass any number of keyword argument corresponding to the variable part of the URL.\n",
        "\n",
        "from flask import Flask\n",
        "from flask import request\n",
        "\n",
        "app = Flask(__name__)\n",
        "\n",
        "@app.route(\"/\")\n",
        "def hello_world():\n",
        "    return \"<h1>Hello, World!</h1>\"\n",
        "\n",
        "\n",
        "@app.route(\"/hello_world1\")\n",
        "def hello_world1():\n",
        "    return \"<h1>Hello, World!1</h1>\"\n",
        "\n",
        "\n",
        "@app.route(\"/hello_world2\")\n",
        "def hello_world2():\n",
        "    return \"<h1>Hello, World!2</h1>\"\n",
        "\n",
        "@app.route(\"/test\")\n",
        "def test():\n",
        "    a = 5+6\n",
        "    return \"this is my function to run app {}\".format(a)\n",
        "\n",
        "@app.route(\"/test2/test2\")\n",
        "def test2():\n",
        "    data = request.args.get('x')\n",
        "    return  \"this is a data input form my url {}\".format(data)\n",
        "\n",
        "if __name__==\"__main__\":\n",
        "    app.run(host=\"0.0.0.0\")\n"
      ],
      "metadata": {
        "colab": {
          "base_uri": "https://localhost:8080/"
        },
        "id": "zXHiGiOMvEx2",
        "outputId": "f478a2e2-04ed-4f0f-e0de-7b372d4e6a35"
      },
      "execution_count": 5,
      "outputs": [
        {
          "output_type": "stream",
          "name": "stdout",
          "text": [
            " * Serving Flask app '__main__'\n",
            " * Debug mode: off\n"
          ]
        },
        {
          "output_type": "stream",
          "name": "stderr",
          "text": [
            "INFO:werkzeug:\u001b[31m\u001b[1mWARNING: This is a development server. Do not use it in a production deployment. Use a production WSGI server instead.\u001b[0m\n",
            " * Running on all addresses (0.0.0.0)\n",
            " * Running on http://127.0.0.1:5000\n",
            " * Running on http://172.28.0.12:5000\n",
            "INFO:werkzeug:\u001b[33mPress CTRL+C to quit\u001b[0m\n"
          ]
        }
      ]
    }
  ]
}